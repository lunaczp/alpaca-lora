{
  "cells": [
    {
      "cell_type": "markdown",
      "metadata": {
        "id": "view-in-github",
        "colab_type": "text"
      },
      "source": [
        "<a href=\"https://colab.research.google.com/github/lunaczp/alpaca-lora/blob/main/train_in_colab.ipynb\" target=\"_parent\"><img src=\"https://colab.research.google.com/assets/colab-badge.svg\" alt=\"Open In Colab\"/></a>"
      ]
    },
    {
      "cell_type": "code",
      "source": [
        "gpu_info = !nvidia-smi\n",
        "gpu_info = '\\n'.join(gpu_info)\n",
        "if gpu_info.find('failed') >= 0:\n",
        "  print('Not connected to a GPU')\n",
        "else:\n",
        "  print(gpu_info)"
      ],
      "metadata": {
        "colab": {
          "base_uri": "https://localhost:8080/"
        },
        "id": "NYgRT2lCwvxx",
        "outputId": "8794a392-3009-44a2-b570-0f8b5db08f85"
      },
      "execution_count": 1,
      "outputs": [
        {
          "output_type": "stream",
          "name": "stdout",
          "text": [
            "Wed May 29 23:51:16 2024       \n",
            "+---------------------------------------------------------------------------------------+\n",
            "| NVIDIA-SMI 535.104.05             Driver Version: 535.104.05   CUDA Version: 12.2     |\n",
            "|-----------------------------------------+----------------------+----------------------+\n",
            "| GPU  Name                 Persistence-M | Bus-Id        Disp.A | Volatile Uncorr. ECC |\n",
            "| Fan  Temp   Perf          Pwr:Usage/Cap |         Memory-Usage | GPU-Util  Compute M. |\n",
            "|                                         |                      |               MIG M. |\n",
            "|=========================================+======================+======================|\n",
            "|   0  NVIDIA A100-SXM4-40GB          Off | 00000000:00:04.0 Off |                    0 |\n",
            "| N/A   33C    P0              48W / 400W |      2MiB / 40960MiB |      0%      Default |\n",
            "|                                         |                      |             Disabled |\n",
            "+-----------------------------------------+----------------------+----------------------+\n",
            "                                                                                         \n",
            "+---------------------------------------------------------------------------------------+\n",
            "| Processes:                                                                            |\n",
            "|  GPU   GI   CI        PID   Type   Process name                            GPU Memory |\n",
            "|        ID   ID                                                             Usage      |\n",
            "|=======================================================================================|\n",
            "|  No running processes found                                                           |\n",
            "+---------------------------------------------------------------------------------------+\n"
          ]
        }
      ]
    },
    {
      "cell_type": "code",
      "source": [
        "from psutil import virtual_memory\n",
        "ram_gb = virtual_memory().total / 1e9\n",
        "print('Your runtime has {:.1f} gigabytes of available RAM\\n'.format(ram_gb))\n",
        "\n",
        "if ram_gb < 20:\n",
        "  print('Not using a high-RAM runtime')\n",
        "else:\n",
        "  print('You are using a high-RAM runtime!')"
      ],
      "metadata": {
        "colab": {
          "base_uri": "https://localhost:8080/"
        },
        "id": "NSpH4RHWw1SU",
        "outputId": "a1bcf116-0c65-4c6d-af2b-6447a779d189"
      },
      "execution_count": 2,
      "outputs": [
        {
          "output_type": "stream",
          "name": "stdout",
          "text": [
            "Your runtime has 89.6 gigabytes of available RAM\n",
            "\n",
            "You are using a high-RAM runtime!\n"
          ]
        }
      ]
    },
    {
      "cell_type": "code",
      "execution_count": 3,
      "metadata": {
        "id": "f58tOv0X-Qci"
      },
      "outputs": [],
      "source": [
        "! export WANDB_PROJECT=lora-light"
      ]
    },
    {
      "cell_type": "code",
      "execution_count": 4,
      "metadata": {
        "id": "MuUiwgPc-Qcl",
        "colab": {
          "base_uri": "https://localhost:8080/"
        },
        "outputId": "36b19ea5-bac1-40d0-85a5-84e100c99f36"
      },
      "outputs": [
        {
          "output_type": "stream",
          "name": "stdout",
          "text": [
            "Cloning into 'alpaca-lora'...\n",
            "remote: Enumerating objects: 552, done.\u001b[K\n",
            "remote: Counting objects: 100% (19/19), done.\u001b[K\n",
            "remote: Compressing objects: 100% (16/16), done.\u001b[K\n",
            "remote: Total 552 (delta 9), reused 9 (delta 3), pack-reused 533\u001b[K\n",
            "Receiving objects: 100% (552/552), 27.83 MiB | 13.73 MiB/s, done.\n",
            "Resolving deltas: 100% (323/323), done.\n",
            "/content/alpaca-lora\n"
          ]
        }
      ],
      "source": [
        "!git clone https://github.com/lunaczp/alpaca-lora.git\n",
        "%cd alpaca-lora"
      ]
    },
    {
      "cell_type": "code",
      "execution_count": null,
      "metadata": {
        "id": "_DnJfbLO-Qcn"
      },
      "outputs": [],
      "source": [
        "!pip install -r requirements.txt"
      ]
    },
    {
      "cell_type": "code",
      "execution_count": null,
      "metadata": {
        "id": "woWLvnem-Qcn"
      },
      "outputs": [],
      "source": [
        "!python finetune.py \\\n",
        "    --base_model 'NousResearch/Llama-2-7b-hf' \\\n",
        "    --data_path 'alpaca_data_gpt4.json' \\\n",
        "    --output_dir './lora-alpaca' \\\n",
        "    --batch_size 128 \\\n",
        "    --micro_batch_size 4 \\\n",
        "    --num_epochs 1 \\\n",
        "    --learning_rate 1e-4 \\\n",
        "    --cutoff_len 512 \\\n",
        "    --val_set_size 2000 \\\n",
        "    --lora_r 8 \\\n",
        "    --lora_alpha 16 \\\n",
        "    --lora_dropout 0.05 \\\n",
        "    --lora_target_modules '[q_proj,v_proj]' \\\n",
        "    --train_on_inputs \\\n",
        "    --group_by_length"
      ]
    },
    {
      "cell_type": "code",
      "execution_count": null,
      "metadata": {
        "id": "xQhYiDWV-Qcp"
      },
      "outputs": [],
      "source": [
        "! pip install -U \"huggingface_hub[cli]\""
      ]
    },
    {
      "cell_type": "code",
      "execution_count": null,
      "metadata": {
        "id": "o4jiEEZG-Qcq"
      },
      "outputs": [],
      "source": [
        "! huggingface-cli login\n",
        "! cd ./lora-alpaca && huggingface-cli upload LightXXXXX/llama-2-7b-hf-lora-alpaca-light ."
      ]
    },
    {
      "cell_type": "code",
      "execution_count": null,
      "metadata": {
        "id": "5wJQmMlu-Qcq"
      },
      "outputs": [],
      "source": [
        "#test\n",
        "! python generate.py \\\n",
        "    --load_8bit \\\n",
        "    --base_model 'NousResearch/Llama-2-7b-hf' \\\n",
        "    --lora_weights 'LightXXXXX/llama-2-7b-hf-lora-alpaca-light'\n"
      ]
    },
    {
      "cell_type": "code",
      "execution_count": null,
      "metadata": {
        "id": "4o2WDlEK-Qcq"
      },
      "outputs": [],
      "source": [
        "# merge\n",
        "! export BASE_MODEL='NousResearch/Llama-2-7b-hf'\n",
        "! export LORA_MODEL='LightXXXXX/llama-2-7b-hf-lora-alpaca-light'\n",
        "! python export_hf_checkpoint.py"
      ]
    },
    {
      "cell_type": "code",
      "execution_count": null,
      "metadata": {
        "id": "TqPhM17R-Qcr"
      },
      "outputs": [],
      "source": [
        "#upload\n",
        "! cd ./hf_ckpt && huggingface-cli upload LightXXXXX/llama-2-7b-hf-alpaca-light . ."
      ]
    },
    {
      "cell_type": "code",
      "execution_count": null,
      "metadata": {
        "id": "wHfj_wDE-Qcr"
      },
      "outputs": [],
      "source": [
        "# convert to gguf\n",
        "%cd /content/\n",
        "! git clone https://github.com/ggerganov/llama.cpp\n",
        "%cd llama.cpp\n",
        "! pip install -r requirements.txt\n",
        "%cd ../\n"
      ]
    },
    {
      "cell_type": "code",
      "execution_count": null,
      "metadata": {
        "id": "eQV3w-Jr-Qcs"
      },
      "outputs": [],
      "source": [
        "#build f16\n",
        "! mkdir models\n",
        "! python3 llama.cpp/convert.py --outtype f16 --outfile models/llama-2-7b-alpaca-light-f16.gguf hf_ckpt/"
      ]
    },
    {
      "cell_type": "code",
      "execution_count": null,
      "metadata": {
        "id": "g9yHJmO9-Qcs"
      },
      "outputs": [],
      "source": [
        "# quantize\n",
        "%cd llama.cpp\n",
        "! make\n",
        "! ./quantize ../models/llama-2-7b-alpaca-light-f16.gguf ../models/llama-2-7b-alpaca-light-Q4_K_M.gguf Q4_K_M\n",
        "%cd ../"
      ]
    },
    {
      "cell_type": "code",
      "execution_count": null,
      "metadata": {
        "id": "CpFvVGEK-Qcs"
      },
      "outputs": [],
      "source": [
        "# upload to huggingface\n",
        "%cd models\n",
        "! huggingface-cli upload LightXXXXX/llama-2-7b-alpaca-light-gguf . ."
      ]
    }
  ],
  "metadata": {
    "language_info": {
      "name": "python"
    },
    "colab": {
      "provenance": [],
      "machine_shape": "hm",
      "gpuType": "A100",
      "include_colab_link": true
    },
    "kernelspec": {
      "name": "python3",
      "display_name": "Python 3"
    },
    "accelerator": "GPU"
  },
  "nbformat": 4,
  "nbformat_minor": 0
}