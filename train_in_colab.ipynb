{
  "cells": [
    {
      "cell_type": "markdown",
      "metadata": {
        "id": "view-in-github",
        "colab_type": "text"
      },
      "source": [
        "<a href=\"https://colab.research.google.com/github/lunaczp/alpaca-lora/blob/main/train_in_colab.ipynb\" target=\"_parent\"><img src=\"https://colab.research.google.com/assets/colab-badge.svg\" alt=\"Open In Colab\"/></a>"
      ]
    },
    {
      "cell_type": "code",
      "execution_count": null,
      "metadata": {
        "id": "f58tOv0X-Qci"
      },
      "outputs": [],
      "source": [
        "! export WANDB_PROJECT=lora-light"
      ]
    },
    {
      "cell_type": "code",
      "execution_count": null,
      "metadata": {
        "id": "MuUiwgPc-Qcl"
      },
      "outputs": [],
      "source": [
        "!git clone https://github.com/lunaczp/alpaca-lora.git\n",
        "%cd alpaca-lora"
      ]
    },
    {
      "cell_type": "code",
      "execution_count": null,
      "metadata": {
        "id": "_DnJfbLO-Qcn"
      },
      "outputs": [],
      "source": [
        "!pip install -r requirements.txt"
      ]
    },
    {
      "cell_type": "code",
      "execution_count": null,
      "metadata": {
        "id": "woWLvnem-Qcn"
      },
      "outputs": [],
      "source": [
        "!python finetune.py \\\n",
        "    --base_model 'NousResearch/Llama-2-7b-hf' \\\n",
        "    --data_path 'alpaca_data_gpt4.json' \\\n",
        "    --output_dir './lora-alpaca' \\\n",
        "    --batch_size 128 \\\n",
        "    --micro_batch_size 4 \\\n",
        "    --num_epochs 1 \\\n",
        "    --learning_rate 1e-4 \\\n",
        "    --cutoff_len 512 \\\n",
        "    --val_set_size 2000 \\\n",
        "    --lora_r 8 \\\n",
        "    --lora_alpha 16 \\\n",
        "    --lora_dropout 0.05 \\\n",
        "    --lora_target_modules '[q_proj,v_proj]' \\\n",
        "    --train_on_inputs \\\n",
        "    --group_by_length"
      ]
    },
    {
      "cell_type": "code",
      "execution_count": null,
      "metadata": {
        "id": "xQhYiDWV-Qcp"
      },
      "outputs": [],
      "source": [
        "! pip install -U \"huggingface_hub[cli]\""
      ]
    },
    {
      "cell_type": "code",
      "execution_count": null,
      "metadata": {
        "id": "o4jiEEZG-Qcq"
      },
      "outputs": [],
      "source": [
        "! huggingface-cli login\n",
        "! cd ./lora-alpaca && huggingface-cli upload LightXXXXX/llama-2-7b-hf-lora-alpaca-light ."
      ]
    },
    {
      "cell_type": "code",
      "execution_count": null,
      "metadata": {
        "id": "5wJQmMlu-Qcq"
      },
      "outputs": [],
      "source": [
        "#test\n",
        "! python generate.py \\\n",
        "    --load_8bit \\\n",
        "    --base_model 'NousResearch/Llama-2-7b-hf' \\\n",
        "    --lora_weights 'LightXXXXX/llama-2-7b-hf-lora-alpaca-light'\n"
      ]
    },
    {
      "cell_type": "code",
      "execution_count": null,
      "metadata": {
        "id": "4o2WDlEK-Qcq"
      },
      "outputs": [],
      "source": [
        "# merge\n",
        "! export BASE_MODEL='NousResearch/Llama-2-7b-hf'\n",
        "! export LORA_MODEL='LightXXXXX/llama-2-7b-hf-lora-alpaca-light'\n",
        "! python export_hf_checkpoint.py"
      ]
    },
    {
      "cell_type": "code",
      "execution_count": null,
      "metadata": {
        "id": "TqPhM17R-Qcr"
      },
      "outputs": [],
      "source": [
        "#upload\n",
        "! cd ./hf_ckpt && huggingface-cli upload LightXXXXX/llama-2-7b-hf-alpaca-light . ."
      ]
    },
    {
      "cell_type": "code",
      "execution_count": null,
      "metadata": {
        "id": "wHfj_wDE-Qcr"
      },
      "outputs": [],
      "source": [
        "# convert to gguf\n",
        "%cd /content/\n",
        "! git clone https://github.com/ggerganov/llama.cpp\n",
        "%cd llama.cpp\n",
        "! pip install -r requirements.txt\n",
        "%cd ../\n"
      ]
    },
    {
      "cell_type": "code",
      "execution_count": null,
      "metadata": {
        "id": "eQV3w-Jr-Qcs"
      },
      "outputs": [],
      "source": [
        "#build f16\n",
        "! mkdir models\n",
        "! python3 llama.cpp/convert.py --outtype f16 --outfile models/llama-2-7b-alpaca-light-f16.gguf hf_ckpt/"
      ]
    },
    {
      "cell_type": "code",
      "execution_count": null,
      "metadata": {
        "id": "g9yHJmO9-Qcs"
      },
      "outputs": [],
      "source": [
        "# quantize\n",
        "%cd llama.cpp\n",
        "! make\n",
        "! ./quantize ../models/llama-2-7b-alpaca-light-f16.gguf ../models/llama-2-7b-alpaca-light-Q4_K_M.gguf Q4_K_M\n",
        "%cd ../"
      ]
    },
    {
      "cell_type": "code",
      "execution_count": null,
      "metadata": {
        "id": "CpFvVGEK-Qcs"
      },
      "outputs": [],
      "source": [
        "# upload to huggingface\n",
        "%cd models\n",
        "! huggingface-cli upload LightXXXXX/llama-2-7b-alpaca-light-gguf . ."
      ]
    }
  ],
  "metadata": {
    "language_info": {
      "name": "python"
    },
    "colab": {
      "provenance": [],
      "include_colab_link": true
    }
  },
  "nbformat": 4,
  "nbformat_minor": 0
}